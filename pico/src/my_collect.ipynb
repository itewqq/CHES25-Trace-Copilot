{
 "cells": [
  {
   "cell_type": "code",
   "execution_count": 1,
   "metadata": {},
   "outputs": [],
   "source": [
    "import ctypes\n",
    "import serial\n",
    "from picosdk.ps3000a import ps3000a as ps\n",
    "from picosdk.functions import mV2adc, adc2mV, assert_pico_ok\n",
    "import numpy as np\n",
    "import matplotlib.pyplot as plt\n",
    "    \n",
    "from pwn import *\n",
    "from tqdm import tqdm\n",
    "import random\n",
    "import time\n",
    "\n",
    "import matplotlib as mpl\n",
    "mpl.rcParams['figure.dpi'] = 300\n",
    "\n",
    "from Trace_processor_pico3000a import TraceProcessor"
   ]
  },
  {
   "cell_type": "markdown",
   "metadata": {},
   "source": [
    "The ps3000a.dll dynamic link library (DLL) in the SDK allows you to program any supported oscilloscope using standard C function calls.  \n",
    "\n",
    "A typical program for capturing data consists of the following steps:  \n",
    "- Open the scope unit.  \n",
    "- Set up the input channels with the required voltage ranges and coupling type.  \n",
    "- Set up triggering.  \n",
    "- Start capturing data. (See Sampling modes, where programming is discussed in more detail.)  \n",
    "- Wait until the scope unit is ready.  \n",
    "- Stop capturing data.  \n",
    "- Copy data to a buffer.  \n",
    "- Close the scope unit.  "
   ]
  },
  {
   "cell_type": "code",
   "execution_count": 2,
   "metadata": {},
   "outputs": [
    {
     "name": "stdout",
     "output_type": "stream",
     "text": [
      "0\n"
     ]
    }
   ],
   "source": [
    "# Step 1: Open the scope unit\n",
    "# Create chan and status ready for use\n",
    "\n",
    "status = {}\n",
    "chandle = ctypes.c_int16()\n",
    "\n",
    "# Opens the device/s\n",
    "status[\"openunit\"] = ps.ps3000aOpenUnit(ctypes.byref(chandle), None)\n",
    "\n",
    "try:\n",
    "    assert_pico_ok(status[\"openunit\"])\n",
    "except:\n",
    "    \n",
    "    print(\"pico not ok?\")\n",
    "    # powerstate becomes the status number of openunit\n",
    "    powerstate = status[\"openunit\"]\n",
    "\n",
    "    # If powerstate is the same as 282 then it will run this if statement\n",
    "    if powerstate == 282:\n",
    "        # Changes the power input to \"PICO_POWER_SUPPLY_NOT_CONNECTED\"\n",
    "        status[\"ChangePowerSource\"] = ps.ps3000aChangePowerSource(chandle, 282)\n",
    "        # If the powerstate is the same as 286 then it will run this if statement\n",
    "    elif powerstate == 286:\n",
    "        # Changes the power input to \"PICO_USB3_0_DEVICE_NON_USB3_0_PORT\"\n",
    "        status[\"ChangePowerSource\"] = ps.ps3000aChangePowerSource(chandle, 286)\n",
    "    else:\n",
    "        raise\n",
    "\n",
    "    assert_pico_ok(status[\"ChangePowerSource\"])\n",
    "\n",
    "\n",
    "print(status[\"openunit\"])"
   ]
  },
  {
   "cell_type": "code",
   "execution_count": 3,
   "metadata": {},
   "outputs": [],
   "source": [
    "# Step 2.a: Input channel parameters\n",
    "\n",
    "#ps3000a.PS3000A_RANGE = make_enum([\n",
    "#     \"PS3000A_10MV\",\n",
    "#     \"PS3000A_20MV\",\n",
    "#     \"PS3000A_50MV\",\n",
    "#     \"PS3000A_100MV\",\n",
    "#     \"PS3000A_200MV\",\n",
    "#     \"PS3000A_500MV\",\n",
    "#     \"PS3000A_1V\",\n",
    "#     \"PS3000A_2V\",\n",
    "#     \"PS3000A_5V\",\n",
    "#     \"PS3000A_10V\",\n",
    "#     \"PS3000A_20V\",\n",
    "#     \"PS3000A_50V\",\n",
    "#     \"PS3000A_MAX_RANGES\",\n",
    "# ])\n",
    "\n",
    "## Set up parameters of channel A\n",
    "channel_A = ps.PS3000A_CHANNEL[\"PS3000A_CHANNEL_A\"]\n",
    "enabled_A = 1\n",
    "coupling_type_A = ps.PS3000A_COUPLING[\"PS3000A_DC\"] # DC\n",
    "chARange = ps.PS3000A_RANGE[\"PS3000A_5V\"] # amplitude\n",
    "analogue_offset_A = 0.0\n",
    "\n",
    "# Set up parameters of channel B \n",
    "channel_B = ps.PS3000A_CHANNEL[\"PS3000A_CHANNEL_B\"]\n",
    "enabled_B = 1\n",
    "coupling_type_B = ps.PS3000A_COUPLING[\"PS3000A_DC\"] # DC\n",
    "chBRange = ps.PS3000A_RANGE[\"PS3000A_50MV\"] # amplitude AES\n",
    "chBRange = ps.PS3000A_RANGE[\"PS3000A_200MV\"] # amplitude ECDSA\n",
    "analogue_offset_B = 0.0\n",
    "\n",
    "# set up channel A\n",
    "status[\"setChA\"] = ps.ps3000aSetChannel(chandle, channel_A, enabled_A, coupling_type_A, chARange, analogue_offset_A)\n",
    "assert_pico_ok(status[\"setChA\"])\n",
    "\n",
    "# set up channel B\n",
    "status[\"setChB\"] = ps.ps3000aSetChannel(chandle, channel_B, enabled_B, coupling_type_B, chBRange, analogue_offset_B)\n",
    "assert_pico_ok(status[\"setChB\"])\n",
    "\n",
    "# find maximum ADC count value\n",
    "# handle = chandle\n",
    "# pointer to value = ctypes.byref(maxADC)\n",
    "maxADC = ctypes.c_int16()\n",
    "status[\"maximumValue\"] = ps.ps3000aMaximumValue(chandle, ctypes.byref(maxADC))\n",
    "assert_pico_ok(status[\"maximumValue\"])"
   ]
  },
  {
   "cell_type": "code",
   "execution_count": 4,
   "metadata": {},
   "outputs": [],
   "source": [
    "# Step 2.b: Time axis parameters\n",
    "\n",
    "# Setting the number of sample to be collected\n",
    "# TOTAL_SAMPLE_NUM = 500_000 # 50_000 # 32_000_000 \n",
    "# TOTAL_SAMPLE_NUM = 50_000 # for AES\n",
    "# TOTAL_SAMPLE_NUM = 250_000 # for AES & random delay\n",
    "TOTAL_SAMPLE_NUM = 32_000_000 # 6_400_000 # 32_000_000 # for ECDSA\n",
    "# TOTAL_SAMPLE_NUM = 32_000_000 # ~64ms, and aes(init+ecnrypt) is ~ 90us\n",
    "shift = 0\n",
    "if shift <= 0:  # left shift\n",
    "    preTriggerSamples = 0\n",
    "    postTriggerSamples = TOTAL_SAMPLE_NUM + np.abs(shift)\n",
    "    left_shift = np.abs(shift)\n",
    "else:           # right shift\n",
    "    preTriggerSamples = shift\n",
    "    postTriggerSamples = TOTAL_SAMPLE_NUM - np.abs(shift)\n",
    "    left_shift = 0\n",
    "maxsamples = TOTAL_SAMPLE_NUM # ?"
   ]
  },
  {
   "cell_type": "code",
   "execution_count": 5,
   "metadata": {},
   "outputs": [
    {
     "name": "stdout",
     "output_type": "stream",
     "text": [
      "timeIntervalns 16.0\n"
     ]
    }
   ],
   "source": [
    "# Step 2.c: Sampling Rate Parameters\n",
    "\n",
    "# Gets timebase innfomation parameters\n",
    "# SAMPLING_RATE = '500M' # AES\n",
    "SAMPLING_RATE = \"62.5M\" # \"31.25M\" # '12.5M' # \"62.5M\" # ECDSA\n",
    "# sampling_rate = \"1G\" # ?\n",
    "\n",
    "sampling_rate_to_timebase = {\n",
    "    \"1G\"    : 0,\n",
    "    \"500M\"  : 1,\n",
    "    \"250M\"  : 2,\n",
    "    \"125M\"  : 3,\n",
    "    \"62.5M\" : 4,\n",
    "    \"31.25M\": 6,\n",
    "    \"25M\"   : 7,\n",
    "    \"12.5M\" : 12,\n",
    "    \"6.25M\" : 22,\n",
    "    \"5M\"    : 27,\n",
    "    \"2.5M\"  : 52,\n",
    "    \"1.25M\" : 102,\n",
    "    \"1M\"    : 127,\n",
    "    \"0.5M\"  : 252,\n",
    "    \"0.1M\"  : 1252\n",
    "}\n",
    "\n",
    "\n",
    "timebase = sampling_rate_to_timebase[SAMPLING_RATE]\n",
    "timeIntervalns = ctypes.c_float()\n",
    "returnedMaxSamples = ctypes.c_int16()\n",
    "status[\"GetTimebase\"] = ps.ps3000aGetTimebase2(chandle, timebase, maxsamples, ctypes.byref(timeIntervalns), 1, ctypes.byref(returnedMaxSamples), 0)\n",
    "assert_pico_ok(status[\"GetTimebase\"])\n",
    "print('timeIntervalns', timeIntervalns.value)"
   ]
  },
  {
   "cell_type": "code",
   "execution_count": 6,
   "metadata": {},
   "outputs": [],
   "source": [
    "# Step 3: Trigger parameters\n",
    "# how many samples to SKIP\n",
    "# TRIG_DELAY = 0 # AES\n",
    "TRIG_DELAY = 0 # ECDSA\n",
    "\n",
    "trigger_source = ps.PS3000A_CHANNEL[\"PS3000A_EXTERNAL\"]\n",
    "trigger_enable = 1\n",
    "\n",
    "# The PicoScope 3000 Series D models have an external trigger input (marked Ext). This external trigger input is scaled to a 16-bit value as follows:\n",
    "# external max value, 5v  -- +32 767 / 0x7FFF\n",
    "#                   , 0V  -- 0 / 0x00\n",
    "# external min value, -5v -- –32 767 / 0x8001\n",
    "trigger_source = ps.PS3000A_CHANNEL[\"PS3000A_EXTERNAL\"]\n",
    "trigger_enable = 1\n",
    "# 1.5V trigger\n",
    "threshold_mV = 1500\n",
    "threshold = int(32767 * 1500 / 5000)\n",
    "direction = ps.PS3000A_DIGITAL_DIRECTION[\"PS3000A_DIGITAL_DIRECTION_HIGH\"] # Rising edge\n",
    "autoTrigger_ms = 0 # ?\n",
    "\n",
    "# Sets up single trigger\n",
    "status[\"trigger\"] = ps.ps3000aSetSimpleTrigger(chandle, trigger_enable, trigger_source, threshold, direction, TRIG_DELAY, autoTrigger_ms)\n",
    "assert_pico_ok(status[\"trigger\"])"
   ]
  },
  {
   "cell_type": "code",
   "execution_count": 7,
   "metadata": {},
   "outputs": [
    {
     "name": "stdout",
     "output_type": "stream",
     "text": [
      "write_fid created\n",
      "writing head\n",
      "write head finished\n",
      "write_fid created\n",
      "writing head\n",
      "write head finished\n"
     ]
    }
   ],
   "source": [
    "# Step 4: Trace Saving Parameters\n",
    "TRACE_NUM = 2 # how many traces do we need?\n",
    "board = 'nrf52840'\n",
    "# algo = 'tinyaes_random_disable'\n",
    "algo = 'ecdsa'\n",
    "optlevel = 'O3'\n",
    "patched = 'patched'\n",
    "# patched = 'ori'\n",
    "TRACESET_NAME = f\"{board}.{algo}.{optlevel}.{patched}.{TOTAL_SAMPLE_NUM}.{TRACE_NUM}\" # trace set name\n",
    "IS_SAVE = True\n",
    "\n",
    "# For aes, input/output lenght is 16\n",
    "INPUT_BYTES = 16\n",
    "OUTPUT_BYTES = 16\n",
    "\n",
    "read_path_chA = ''\n",
    "write_path_chA = \"../traces/\" + TRACESET_NAME + \".chA\" + \".trs\"\n",
    "\n",
    "trace_handler_chA = TraceProcessor(read_path_chA, write_path_chA)\n",
    "trace_handler_chA.CurveNum = TRACE_NUM\n",
    "trace_handler_chA.SampleNum = maxsamples\n",
    "# The following is picoscope 3000 specific\n",
    "trace_handler_chA.Sample_Encoding_inspector = int('02', 16) # use int16 to save\n",
    "trace_handler_chA.BytesOfOneSample = 2\n",
    "# trace_handler_chA.isFloat_for_independent_write = 0\n",
    "# trace_handler_chA.BytesOfOneSample_for_independent_write = 2\n",
    "\n",
    "trace_handler_chA.BytesOfCipher = INPUT_BYTES + OUTPUT_BYTES\n",
    "trace_handler_chA.write_trace_head()\n",
    "\n",
    "\n",
    "read_path_chB = ''\n",
    "write_path_chB = \"../traces/\" + TRACESET_NAME + \".chB\" + \".trs\"\n",
    "\n",
    "trace_handler_chB = TraceProcessor(read_path_chB, write_path_chB)\n",
    "trace_handler_chB.CurveNum = TRACE_NUM\n",
    "trace_handler_chB.SampleNum = maxsamples\n",
    "# The following is picoscope 3000 specific\n",
    "trace_handler_chB.Sample_Encoding_inspector = int('02', 16) # use int16 to save\n",
    "trace_handler_chB.BytesOfOneSample = 2\n",
    "# trace_handler_chB.isFloat_for_independent_write = 0\n",
    "# trace_handler_chB.BytesOfOneSample_for_independent_write = 2\n",
    "\n",
    "trace_handler_chB.BytesOfCipher = INPUT_BYTES + OUTPUT_BYTES\n",
    "trace_handler_chB.write_trace_head()\n",
    "\n",
    "\n",
    "# traces_file = \"../traces/t/\" + TRACESET_NAME # file path to save the raw traces \n",
    "# pts_file = \"../traces/p/\" + TRACESET_NAME # file path to save the plaintexts\n",
    "\n",
    "# traces_array = np.zeros(TRACE_NUM, maxsamples)\n",
    "# pts_array = np.zeros(TRACE_NUM, )\n",
    "\n",
    "# Creates a overlow location for data\n",
    "overflow = ctypes.c_int16()\n",
    "# Creates converted types maxsamples\n",
    "cmaxSamples = ctypes.c_int32(maxsamples)\n",
    "\n",
    "# Create buffers ready for assigning pointers for data collection\n",
    "bufferAMax = (ctypes.c_int16 * maxsamples)()\n",
    "bufferAMin = (ctypes.c_int16 * maxsamples)()  # used for downsampling which isn't in the scope of this example\n",
    "bufferBMax = (ctypes.c_int16 * maxsamples)()\n",
    "bufferBMin = (ctypes.c_int16 * maxsamples)()  # used for downsampling which isn't in the scope of this example\n"
   ]
  },
  {
   "cell_type": "code",
   "execution_count": 8,
   "metadata": {},
   "outputs": [],
   "source": [
    "# Step 5: Communication with the Target\n",
    "\n",
    "PORT = \"/dev/ttyACM0\"\n",
    "CMD_TINYAES_U = p8(0xA1) # uart tinyaes encryption\n",
    "CMD_COREMARK_U = p8(0xA2) # coremark\n",
    "CMD_ECDSA_U = p8(0xA3) # ecdsa\n",
    "PT_LEN = 0x10\n",
    "\n",
    "if \"io\" in globals():\n",
    "    io.close()\n",
    "\n",
    "io = serialtube(PORT, baudrate=115200)\n",
    "\n",
    "def reset_target():\n",
    "    cmd = 'nrfjprog --reset'\n",
    "    output_bytes = subprocess.check_output(cmd, shell=True)\n",
    "    print(output_bytes.decode('utf-8'))\n",
    "\n",
    "def send_line(bs: bytes):\n",
    "    # l = len(bs)\n",
    "    # io.send(p32(l))\n",
    "    io.sendline(bs.hex())"
   ]
  },
  {
   "cell_type": "code",
   "execution_count": 9,
   "metadata": {},
   "outputs": [
    {
     "name": "stdout",
     "output_type": "stream",
     "text": [
      "Applying system reset.\n",
      "Run.\n",
      "\n",
      "start collecting...\n"
     ]
    },
    {
     "name": "stderr",
     "output_type": "stream",
     "text": [
      "  0%|          | 0/2 [00:00<?, ?it/s]/tmp/ipykernel_3062914/54634582.py:22: BytesWarning: Text is not bytes; assuming ASCII, no guarantees. See https://docs.pwntools.com/#bytes\n",
      "  io.sendline(bs.hex())\n"
     ]
    },
    {
     "name": "stdout",
     "output_type": "stream",
     "text": [
      "[d] waiting for response\n",
      "[d] recieved!\n",
      "b'9\\x0c\\x8c}rG4,\\xd8\\x10\\x0f/ow\\re'\n"
     ]
    },
    {
     "data": {
      "image/png": "[encoded data removed]",
      "text/plain": [
       "<Figure size 432x288 with 1 Axes>"
      ]
     },
     "metadata": {
      "needs_background": "light"
     },
     "output_type": "display_data"
    },
    {
     "data": {
      "image/png": "[encoded data removed]",
      "text/plain": [
       "<Figure size 432x288 with 1 Axes>"
      ]
     },
     "metadata": {
      "needs_background": "light"
     },
     "output_type": "display_data"
    },
    {
     "name": "stderr",
     "output_type": "stream",
     "text": [
      " 50%|█████     | 1/2 [00:39<00:39, 39.99s/it]"
     ]
    },
    {
     "name": "stdout",
     "output_type": "stream",
     "text": [
      "[d] waiting for response\n",
      "[d] recieved!\n",
      "b'\\xd6p\\xe5\\x8e\\x03Q\\xd8\\xae\\x8eOn\\xac4/\\xc21'\n"
     ]
    },
    {
     "data": {
      "image/png": "[encoded data removed]",
      "text/plain": [
       "<Figure size 432x288 with 1 Axes>"
      ]
     },
     "metadata": {
      "needs_background": "light"
     },
     "output_type": "display_data"
    },
    {
     "data": {
      "image/png": "[encoded data removed]",
      "text/plain": [
       "<Figure size 432x288 with 1 Axes>"
      ]
     },
     "metadata": {
      "needs_background": "light"
     },
     "output_type": "display_data"
    },
    {
     "name": "stderr",
     "output_type": "stream",
     "text": [
      "100%|██████████| 2/2 [01:20<00:00, 40.28s/it]\n"
     ]
    }
   ],
   "source": [
    "# Step 6: Capturing the data\n",
    "GET_PC_TRACE = False\n",
    "# debug view\n",
    "IS_DEBUG = True\n",
    "if IS_DEBUG:\n",
    "    TRACE_NUM = 2\n",
    "if GET_PC_TRACE:\n",
    "    pass\n",
    "else:\n",
    "    # reset the target for trigger signals, disable for instruction traces\n",
    "    reset_target()\n",
    "    # health check\n",
    "    io.recvuntil(b\"READY\\n\")\n",
    "\n",
    "# make the result reproducible\n",
    "random.seed(42)\n",
    "\n",
    "# collect\n",
    "print(\"start collecting...\")\n",
    "for i in tqdm(range(TRACE_NUM)):\n",
    "    pt = bytes([random.randrange(0, 256) for _ in range(0, PT_LEN)])\n",
    "    # Setting block capture mode\n",
    "    status[\"runblock\"] = ps.ps3000aRunBlock(chandle, preTriggerSamples, postTriggerSamples, timebase, 1, None, 0, None, None)\n",
    "    assert_pico_ok(status[\"runblock\"])\n",
    "    \n",
    "    # Setting the data buffer location for data collection from channel A\n",
    "    source = ps.PS3000A_CHANNEL[\"PS3000A_CHANNEL_A\"]\n",
    "    ratio_mode = ps.PS3000A_RATIO_MODE[\"PS3000A_RATIO_MODE_NONE\"]\n",
    "    status[\"SetDataBuffersA\"] = ps.ps3000aSetDataBuffers(chandle, source, ctypes.byref(bufferAMax), ctypes.byref(bufferAMin), maxsamples, 0, ratio_mode)\n",
    "    assert_pico_ok(status[\"SetDataBuffersA\"])\n",
    "\n",
    "    # Setting the data buffer location for data collection from channel B\n",
    "    source = ps.PS3000A_CHANNEL[\"PS3000A_CHANNEL_B\"]\n",
    "    ratio_mode = ps.PS3000A_RATIO_MODE[\"PS3000A_RATIO_MODE_NONE\"]\n",
    "    status[\"SetDataBuffersB\"] = ps.ps3000aSetDataBuffers(chandle, source, ctypes.byref(bufferBMax), ctypes.byref(bufferBMin), maxsamples, 0, ratio_mode)\n",
    "    assert_pico_ok(status[\"SetDataBuffersB\"])\n",
    "\n",
    "    # Send trigger bytes to the targer MCU, which will pull up a pin after receiving the plaintext\n",
    "    # send_line(CMD_TINYAES_U)\n",
    "    # send_line(pt)\n",
    "    # time.sleep(0.1)\n",
    "    # data = io.recvuntil(b\"DONE\\n\")                \n",
    "\n",
    "    # # Send cmd to trigger coremark\n",
    "    # send_line(CMD_COREMARK_U)\n",
    "    # time.sleep(0.1)\n",
    "    # data = io.recvuntil(b\"DONE\\n\")\n",
    "\n",
    "    # Send cmd to trigger coremark\n",
    "    send_line(CMD_ECDSA_U)\n",
    "    print(\"[d] waiting for response\")\n",
    "    time.sleep(0.1)\n",
    "    data = io.recvuntil(b\"DONE\\n\")\n",
    "    print(\"[d] recieved!\")\n",
    "\n",
    "    # Checks data collection to finish the capture\n",
    "    ready = ctypes.c_int16(0)\n",
    "    check = ctypes.c_int16(0) # ?\n",
    "    while ready.value == check.value:\n",
    "        status[\"isReady\"] = ps.ps3000aIsReady(chandle, ctypes.byref(ready))\n",
    "\n",
    "    status[\"GetValues\"] = ps.ps3000aGetValues(chandle, left_shift, ctypes.byref(cmaxSamples), 0, 0, 0, ctypes.byref(overflow))\n",
    "    assert_pico_ok(status[\"GetValues\"]) # ?\n",
    "\n",
    "    if IS_SAVE:\n",
    "        get_text = b\"\\x00\" * 16\n",
    "        trace_handler_chA.write_one_trace(text=pt+get_text, samples=np.asarray(bufferAMax, dtype=np.int16))\n",
    "        trace_handler_chB.write_one_trace(text=pt+get_text, samples=np.asarray(bufferBMax, dtype=np.int16))\n",
    "\n",
    "\n",
    "    ########################## debug lines\n",
    "    if IS_DEBUG:\n",
    "        # print plain text\n",
    "        print(pt)\n",
    "        # Creates the time data\n",
    "        times = np.linspace(0, (cmaxSamples.value) * timeIntervalns.value, cmaxSamples.value)\n",
    "\n",
    "        # Converts ADC from channel A to mV\n",
    "        adc2mVChAMax = adc2mV(bufferAMax, chARange, maxADC)\n",
    "        adc2mVChBMax = adc2mV(bufferBMax, chBRange, maxADC)\n",
    "\n",
    "        # Plots the data from channel A\n",
    "        plt.figure()\n",
    "        plt.plot(times, adc2mVChAMax[:], linewidth=0.1)\n",
    "        plt.xlabel('Time (ns)')\n",
    "        plt.ylabel('Voltage (mV)')\n",
    "        plt.show()\n",
    "\n",
    "        # Plots the data from channel B\n",
    "        plt.figure()\n",
    "        plt.plot(times, adc2mVChBMax[:], linewidth=0.1)\n",
    "        plt.xlabel('Time (ns)')\n",
    "        plt.ylabel('Voltage (mV)')\n",
    "        plt.show()\n",
    "        # plt.figure()\n",
    "        # plt.plot(times, bufferBMax[:], linewidth=0.1)\n",
    "        # plt.xlabel('Time (ns)')\n",
    "        # plt.ylabel('ADC Buffer')\n",
    "        # plt.show()\n",
    "\n",
    "        # print(np.asarray(bufferAMax, dtype=np.int16))\n",
    "        # print(np.asarray(bufferBMax, dtype=np.int16))\n",
    "    "
   ]
  },
  {
   "cell_type": "code",
   "execution_count": 10,
   "metadata": {},
   "outputs": [
    {
     "name": "stdout",
     "output_type": "stream",
     "text": [
      "{'openunit': 0, 'setChA': 0, 'setChB': 0, 'maximumValue': 0, 'GetTimebase': 0, 'trigger': 0, 'runblock': 0, 'SetDataBuffersA': 0, 'SetDataBuffersB': 0, 'isReady': 0, 'GetValues': 0, 'stop': 0, 'close': 0}\n"
     ]
    }
   ],
   "source": [
    "# Finally, Stop and Close the scope\n",
    "status[\"stop\"] = ps.ps3000aStop(chandle)\n",
    "assert_pico_ok(status[\"stop\"])\n",
    "\n",
    "status[\"close\"] = ps.ps3000aCloseUnit(chandle)\n",
    "assert_pico_ok(status[\"close\"])\n",
    "\n",
    "# Displays the staus returns\n",
    "print(status)\n",
    "\n",
    "trace_handler_chB.close_write_fid()\n",
    "trace_handler_chA.close_write_fid()"
   ]
  },
  {
   "cell_type": "code",
   "execution_count": 11,
   "metadata": {},
   "outputs": [
    {
     "ename": "RuntimeError",
     "evalue": "No active exception to reraise",
     "output_type": "error",
     "traceback": [
      "\u001b[0;31m---------------------------------------------------------------------------\u001b[0m",
      "\u001b[0;31mRuntimeError\u001b[0m                              Traceback (most recent call last)",
      "Input \u001b[0;32mIn [11]\u001b[0m, in \u001b[0;36m<cell line: 1>\u001b[0;34m()\u001b[0m\n\u001b[0;32m----> 1\u001b[0m \u001b[38;5;28;01mraise\u001b[39;00m\n",
      "\u001b[0;31mRuntimeError\u001b[0m: No active exception to reraise"
     ]
    }
   ],
   "source": [
    "raise"
   ]
  },
  {
   "cell_type": "markdown",
   "metadata": {},
   "source": [
    "Mannul test"
   ]
  },
  {
   "cell_type": "code",
   "execution_count": null,
   "metadata": {},
   "outputs": [
    {
     "name": "stdout",
     "output_type": "stream",
     "text": [
      "Applying system reset.\n",
      "Run.\n",
      "\n"
     ]
    },
    {
     "name": "stderr",
     "output_type": "stream",
     "text": [
      "/tmp/ipykernel_444692/4283850263.py:40: BytesWarning: Text is not bytes; assuming ASCII, no guarantees. See https://docs.pwntools.com/#bytes\n",
      "  io.sendline(bs.hex())\n"
     ]
    },
    {
     "name": "stdout",
     "output_type": "stream",
     "text": [
      "YES!\n",
      "YES!\n",
      "YES!\n",
      "YES!\n",
      "YES!\n",
      "YES!\n",
      "YES!\n",
      "YES!\n",
      "YES!\n",
      "YES!\n",
      "YES!\n",
      "YES!\n",
      "YES!\n",
      "YES!\n",
      "YES!\n",
      "YES!\n",
      "YES!\n",
      "YES!\n",
      "YES!\n",
      "YES!\n",
      "YES!\n",
      "YES!\n",
      "YES!\n",
      "YES!\n",
      "YES!\n",
      "YES!\n",
      "YES!\n",
      "YES!\n",
      "YES!\n",
      "YES!\n",
      "YES!\n",
      "YES!\n",
      "YES!\n",
      "YES!\n",
      "YES!\n",
      "YES!\n",
      "YES!\n",
      "YES!\n",
      "YES!\n",
      "YES!\n",
      "YES!\n",
      "YES!\n",
      "YES!\n",
      "YES!\n",
      "YES!\n",
      "YES!\n",
      "YES!\n",
      "YES!\n",
      "YES!\n",
      "YES!\n",
      "YES!\n",
      "YES!\n",
      "YES!\n",
      "YES!\n",
      "YES!\n",
      "YES!\n",
      "YES!\n",
      "YES!\n",
      "YES!\n",
      "YES!\n",
      "YES!\n",
      "YES!\n",
      "YES!\n",
      "YES!\n",
      "YES!\n",
      "YES!\n",
      "YES!\n",
      "YES!\n",
      "YES!\n",
      "YES!\n",
      "YES!\n",
      "YES!\n",
      "YES!\n",
      "YES!\n",
      "YES!\n",
      "YES!\n",
      "YES!\n",
      "YES!\n",
      "YES!\n",
      "YES!\n",
      "YES!\n",
      "YES!\n",
      "YES!\n",
      "YES!\n",
      "YES!\n",
      "YES!\n",
      "YES!\n",
      "YES!\n",
      "YES!\n",
      "YES!\n",
      "YES!\n",
      "YES!\n",
      "YES!\n",
      "YES!\n",
      "YES!\n",
      "YES!\n",
      "YES!\n",
      "YES!\n",
      "YES!\n",
      "YES!\n",
      "YES!\n",
      "YES!\n",
      "YES!\n",
      "YES!\n",
      "YES!\n",
      "YES!\n",
      "YES!\n",
      "YES!\n",
      "YES!\n",
      "YES!\n",
      "YES!\n",
      "YES!\n",
      "YES!\n",
      "YES!\n",
      "YES!\n",
      "YES!\n",
      "YES!\n",
      "YES!\n",
      "YES!\n",
      "YES!\n",
      "YES!\n",
      "YES!\n",
      "YES!\n",
      "YES!\n",
      "YES!\n",
      "YES!\n",
      "YES!\n",
      "YES!\n",
      "YES!\n",
      "YES!\n",
      "YES!\n",
      "YES!\n",
      "YES!\n",
      "YES!\n",
      "YES!\n",
      "YES!\n",
      "YES!\n",
      "YES!\n",
      "YES!\n",
      "YES!\n",
      "YES!\n",
      "YES!\n",
      "YES!\n",
      "YES!\n",
      "YES!\n",
      "YES!\n",
      "YES!\n",
      "YES!\n",
      "YES!\n"
     ]
    },
    {
     "ename": "KeyboardInterrupt",
     "evalue": "",
     "output_type": "error",
     "traceback": [
      "\u001b[0;31m---------------------------------------------------------------------------\u001b[0m",
      "\u001b[0;31mKeyboardInterrupt\u001b[0m                         Traceback (most recent call last)",
      "Input \u001b[0;32mIn [9]\u001b[0m, in \u001b[0;36m<cell line: 58>\u001b[0;34m()\u001b[0m\n\u001b[1;32m     62\u001b[0m     \u001b[38;5;66;03m# collect_one_trace()\u001b[39;00m\n\u001b[1;32m     63\u001b[0m     \u001b[38;5;66;03m# print(i, data)\u001b[39;00m\n\u001b[1;32m     64\u001b[0m     \u001b[38;5;28mprint\u001b[39m(\u001b[38;5;124m\"\u001b[39m\u001b[38;5;124mYES!\u001b[39m\u001b[38;5;124m\"\u001b[39m)\n\u001b[0;32m---> 65\u001b[0m     \u001b[43msleep\u001b[49m\u001b[43m(\u001b[49m\u001b[38;5;241;43m1\u001b[39;49m\u001b[43m)\u001b[49m\n\u001b[1;32m     67\u001b[0m io\u001b[38;5;241m.\u001b[39mclose()\n\u001b[1;32m     68\u001b[0m \u001b[38;5;28mprint\u001b[39m(\u001b[38;5;124m\"\u001b[39m\u001b[38;5;124mAll done.\u001b[39m\u001b[38;5;124m\"\u001b[39m)\n",
      "File \u001b[0;32m~/miniconda3/envs/fault/lib/python3.8/site-packages/pwnlib/replacements.py:20\u001b[0m, in \u001b[0;36msleep\u001b[0;34m(n)\u001b[0m\n\u001b[1;32m     18\u001b[0m \u001b[38;5;28;01mif\u001b[39;00m left \u001b[38;5;241m<\u001b[39m\u001b[38;5;241m=\u001b[39m \u001b[38;5;241m0\u001b[39m:\n\u001b[1;32m     19\u001b[0m     \u001b[38;5;28;01mbreak\u001b[39;00m\n\u001b[0;32m---> 20\u001b[0m \u001b[43m__time\u001b[49m\u001b[38;5;241;43m.\u001b[39;49m\u001b[43msleep\u001b[49m\u001b[43m(\u001b[49m\u001b[43mleft\u001b[49m\u001b[43m)\u001b[49m\n",
      "\u001b[0;31mKeyboardInterrupt\u001b[0m: "
     ]
    }
   ],
   "source": [
    "import ctypes\n",
    "import serial\n",
    "from picosdk.ps3000a import ps3000a as ps\n",
    "from picosdk.functions import mV2adc, adc2mV, assert_pico_ok\n",
    "import numpy as np\n",
    "import matplotlib.pyplot as plt\n",
    "    \n",
    "from pwn import *\n",
    "from tqdm import tqdm\n",
    "import random\n",
    "import time\n",
    "\n",
    "import matplotlib as mpl\n",
    "mpl.rcParams['figure.dpi'] = 300\n",
    "\n",
    "from Trace_processor_pico3000a import TraceProcessor\n",
    "\n",
    "\n",
    "TRACE_NUM = 1\n",
    "PORT = \"/dev/ttyACM0\"\n",
    "CMD_TINYAES_U = p8(0xA1) # uart tinyaes encryption\n",
    "CMD_COREMARK_U = p8(0xA2)\n",
    "CMD_ECDSA_U = p8(0xA3) # ecdsa\n",
    "PT_LEN = 0x10\n",
    "GET_PC_TRACE = False\n",
    "\n",
    "if \"io\" in globals():\n",
    "    io.close()\n",
    "\n",
    "io = serialtube(PORT, baudrate=115200)\n",
    "\n",
    "def reset_target():\n",
    "    cmd = 'nrfjprog --reset'\n",
    "    output_bytes = subprocess.check_output(cmd, shell=True)\n",
    "    print(output_bytes.decode('utf-8'))\n",
    "\n",
    "def send_line(bs: bytes):\n",
    "    # l = len(bs)\n",
    "    # io.send(p32(l))TRACE_NUM = 10\n",
    "    io.sendline(bs.hex())\n",
    "\n",
    "if GET_PC_TRACE:\n",
    "    pass\n",
    "else:\n",
    "    reset_target()\n",
    "\n",
    "io.recvuntil(b\"READY\\n\")\n",
    "\n",
    "# generate random plain text\n",
    "random.seed(42)\n",
    "pt = [bytes([random.randrange(0, 256) for _ in range(0, PT_LEN)]) for _ in range(TRACE_NUM)]\n",
    "\n",
    "# collect the traces\n",
    "while True:\n",
    "# for i in tqdm(range(TRACE_NUM)):\n",
    "    # send_line(CMD_TINYAES_U)\n",
    "    # send_line(CMD_COREMARK_U)\n",
    "    send_line(CMD_ECDSA_U)\n",
    "    # send_line(pt[i])\n",
    "    send_line(pt[0])\n",
    "    data = io.recvuntil(b\"DONE\\n\")\n",
    "    # collect_one_trace()\n",
    "    # print(i, data)\n",
    "    print(\"YES!\")\n",
    "    sleep(1)\n",
    "\n",
    "io.close()\n",
    "print(\"All done.\")"
   ]
  },
  {
   "cell_type": "code",
   "execution_count": null,
   "metadata": {},
   "outputs": [
    {
     "name": "stdout",
     "output_type": "stream",
     "text": [
      "pt: 390c8c7d7247342cd8100f2f6f770d65\n",
      "96e9c46d731b2b260a16e8c40be17552\n"
     ]
    }
   ],
   "source": [
    "from Crypto.Cipher import AES\n",
    "from Crypto.Util.Padding import pad, unpad\n",
    "\n",
    "key = bytearray([0x2b, 0x7e, 0x15, 0x16, 0x28, 0xae, 0xd2, 0xa6, 0xab, 0xf7, 0x15, 0x88, 0x09, 0xcf, 0x4f, 0x3c])\n",
    "cipher = AES.new(key, AES.MODE_ECB)\n",
    "for p in pt:\n",
    "    print(f\"pt: {p.hex()}\")\n",
    "    ct = cipher.encrypt(p)\n",
    "    print(ct.hex())"
   ]
  },
  {
   "cell_type": "code",
   "execution_count": null,
   "metadata": {},
   "outputs": [
    {
     "name": "stdout",
     "output_type": "stream",
     "text": [
      "<class 'numpy.uint8'>\n"
     ]
    }
   ],
   "source": [
    "pt = bytes([random.randrange(0, 256) for _ in range(0, PT_LEN)]) \n",
    "pt_arr = np.array([x for x in pt], dtype='uint8')\n",
    "\n",
    "print(type(pt_arr[0]))"
   ]
  },
  {
   "cell_type": "code",
   "execution_count": null,
   "metadata": {},
   "outputs": [
    {
     "data": {
      "text/plain": [
       "array([[0., 0., 0.],\n",
       "       [0., 0., 0.]])"
      ]
     },
     "execution_count": 31,
     "metadata": {},
     "output_type": "execute_result"
    }
   ],
   "source": [
    "np.zeros((2,3))"
   ]
  },
  {
   "cell_type": "code",
   "execution_count": null,
   "metadata": {},
   "outputs": [],
   "source": []
  }
 ],
 "metadata": {
  "kernelspec": {
   "display_name": "fault",
   "language": "python",
   "name": "python3"
  },
  "language_info": {
   "codemirror_mode": {
    "name": "ipython",
    "version": 3
   },
   "file_extension": ".py",
   "mimetype": "text/x-python",
   "name": "python",
   "nbconvert_exporter": "python",
   "pygments_lexer": "ipython3",
   "version": "3.8.18"
  }
 },
 "nbformat": 4,
 "nbformat_minor": 2
}
